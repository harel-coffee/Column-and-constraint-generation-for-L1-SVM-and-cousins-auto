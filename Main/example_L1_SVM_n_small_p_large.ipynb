{
 "cells": [
  {
   "cell_type": "code",
   "execution_count": 1,
   "metadata": {},
   "outputs": [
    {
     "name": "stderr",
     "output_type": "stream",
     "text": [
      "R[write to console]: 载入需要的程辑包：lattice\n",
      "\n",
      "R[write to console]: 载入需要的程辑包：igraph\n",
      "\n",
      "R[write to console]: \n",
      "载入程辑包：‘igraph’\n",
      "\n",
      "\n",
      "R[write to console]: The following objects are masked from ‘package:stats’:\n",
      "\n",
      "    decompose, spectrum\n",
      "\n",
      "\n",
      "R[write to console]: The following object is masked from ‘package:base’:\n",
      "\n",
      "    union\n",
      "\n",
      "\n",
      "R[write to console]: 载入需要的程辑包：MASS\n",
      "\n",
      "R[write to console]: 载入需要的程辑包：Matrix\n",
      "\n"
     ]
    }
   ],
   "source": [
    "import numpy as np\n",
    "import sys\n",
    "sys.path.append('./L1SVM_CG')\n",
    "\n",
    "\n",
    "from Our_methods import use_FOM_CG, use_RP_CG\n",
    "from Benchmarks import use_SGD, use_SCS, use_PSM, use_Gurobi, use_FOM\n",
    "from simulate_data_classification import simulate_data_classification"
   ]
  },
  {
   "cell_type": "code",
   "execution_count": 2,
   "metadata": {},
   "outputs": [
    {
     "name": "stdout",
     "output_type": "stream",
     "text": [
      "\n",
      "DATA CREATED for N=100, P=1000, k0=10 Rho=0.1 Sigma=2 Seed_X=134\n"
     ]
    }
   ],
   "source": [
    "## generate data \n",
    "## 'trash.txt' is a temperory txt file to save some of the output\n",
    "\n",
    "N, P = 100, 1000\n",
    "type_Sigma, k0, rho, tau_SNR = 2, 10, 0.1, 1\n",
    "seed_X = 134\n",
    "f = open('trash.txt', 'w')\n",
    "X_train, _, _, y_train, _, _ = simulate_data_classification(type_Sigma, N, P, k0, rho, tau_SNR, seed_X, f, create_test=False)\n",
    "\n",
    "lam_max = np.max(np.sum( np.abs(X_train), axis=0))\n",
    "lam = 0.01*lam_max\n"
   ]
  },
  {
   "cell_type": "code",
   "execution_count": 3,
   "metadata": {
    "scrolled": true
   },
   "outputs": [
    {
     "name": "stdout",
     "output_type": "stream",
     "text": [
      "TEST CV BEFORE TAU: 31.63858403911275\n",
      "\n",
      "Number of iterations: 200\n",
      "Shape: (100, 1000)\n",
      "Len support smoothing: 122\n",
      "Number violated constraints: 0\n",
      "Convergence rate    : 0.014\n",
      "Time smoothing: 0.406\n",
      "\n",
      "Number of iterations              : 1\n",
      "Total time smoothing for hinge: 0.408\n",
      "len(idx_col)= 122\n",
      "Size of model: [100, 122]\n",
      "Using license file /home/software/gurobi/gurobi.lic\n",
      "Set parameter TokenServer to value engaging-license-001\n",
      "Round 1\n",
      "Number of columns added: 1\n",
      "Round 2\n",
      "\n",
      "TIME CG = 0.23986530303955078\n",
      "\n",
      "Obj value   = 2.0470634229973705\n",
      "Len support = 43\n",
      "b0   = 0.028318583577890955\n",
      "\n",
      "Number violated constraints =  27\n",
      "Len support dual = 44\n"
     ]
    }
   ],
   "source": [
    "## Use column generation LP inicialized with first order method (FO-CLG). See the paper for more details.\n",
    "## The input \"tau_max\" is the smoothing parameter for the Nesterov's smoothing method\n",
    "## The input \"tol\" is the tolerance parameter for searching reduced cost (the parameter \"epsilon\" in the paper)\n",
    "\n",
    "obj, time_total, time_CG, beta, beta0 = use_FOM_CG(X_train, y_train, lam, tau_max = 0.1, tol = 0.01)\n",
    "\n"
   ]
  },
  {
   "cell_type": "code",
   "execution_count": 4,
   "metadata": {
    "scrolled": true
   },
   "outputs": [
    {
     "name": "stdout",
     "output_type": "stream",
     "text": [
      "Time correlation for column subset selection: 0.00022411346435546875\n",
      "Size of model: [100, 10]\n",
      "Round 1\n",
      "\n",
      "TIME CG = 0.03334498405456543\n",
      "\n",
      "Obj value   = 100.0\n",
      "Len support = 0\n",
      "b0   = 1.0\n",
      "\n",
      "Number violated constraints =  100\n",
      "Len support dual = 100\n",
      "Size of model: [100, 10]\n",
      "Round 1\n",
      "\n",
      "TIME CG = 0.003199338912963867\n",
      "\n",
      "Obj value   = 73.62025361336714\n",
      "Len support = 7\n",
      "b0   = 0.005404007159263098\n",
      "\n",
      "Number violated constraints =  76\n",
      "Len support dual = 76\n",
      "Size of model: [100, 10]\n",
      "Round 1\n",
      "Number of columns added: 21\n",
      "Round 2\n",
      "\n",
      "TIME CG = 0.02461075782775879\n",
      "\n",
      "Obj value   = 46.28827075059181\n",
      "Len support = 20\n",
      "b0   = 0.03201796341438502\n",
      "\n",
      "Number violated constraints =  51\n",
      "Len support dual = 57\n",
      "Size of model: [100, 31]\n",
      "Round 1\n",
      "Number of columns added: 45\n",
      "Round 2\n",
      "Number of columns added: 1\n",
      "Round 3\n",
      "\n",
      "TIME CG = 0.06110119819641113\n",
      "\n",
      "Obj value   = 25.426083015968743\n",
      "Len support = 34\n",
      "b0   = 0.006230532050544238\n",
      "\n",
      "Number violated constraints =  32\n",
      "Len support dual = 45\n",
      "Size of model: [100, 77]\n",
      "Round 1\n",
      "Number of columns added: 12\n",
      "Round 2\n",
      "Number of columns added: 2\n",
      "Round 3\n",
      "\n",
      "TIME CG = 0.0360255241394043\n",
      "\n",
      "Obj value   = 12.791520579951374\n",
      "Len support = 44\n",
      "b0   = 0.020759362384734196\n",
      "\n",
      "Number violated constraints =  30\n",
      "Len support dual = 45\n",
      "Size of model: [100, 91]\n",
      "Round 1\n",
      "\n",
      "TIME CG = 0.004826784133911133\n",
      "\n",
      "Obj value   = 6.395760289975688\n",
      "Len support = 44\n",
      "b0   = 0.02075936238473386\n",
      "\n",
      "Number violated constraints =  23\n",
      "Len support dual = 45\n",
      "Size of model: [100, 91]\n",
      "Round 1\n",
      "\n",
      "TIME CG = 0.004781007766723633\n",
      "\n",
      "Obj value   = 2.0466432927922202\n",
      "Len support = 44\n",
      "b0   = 0.02075936238473386\n",
      "\n",
      "Number violated constraints =  23\n",
      "Len support dual = 45\n"
     ]
    }
   ],
   "source": [
    "## Use column generation LP on a regularization path (RP-CG). See the paper for more details.\n",
    "\n",
    "obj, runtime, beta, beta0 = use_RP_CG(X_train, y_train, lam, lam_max, tol = 0.01)\n",
    "\n"
   ]
  },
  {
   "cell_type": "code",
   "execution_count": 5,
   "metadata": {
    "scrolled": true
   },
   "outputs": [
    {
     "name": "stdout",
     "output_type": "stream",
     "text": [
      "----------------------------------------------------------------------------\n",
      "\tSCS v2.1.1 - Splitting Conic Solver\n",
      "\t(c) Brendan O'Donoghue, Stanford University, 2012\n",
      "----------------------------------------------------------------------------\n",
      "Lin-sys: sparse-direct, nnz in A = 105301\n",
      "eps = 1.00e-04, alpha = 1.50, max_iters = 5000, normalize = 1, scale = 1.00\n",
      "acceleration_lookback = 10, rho_x = 1.00e-03\n",
      "Variables n = 2102, constraints m = 2201\n",
      "Cones:\tlinear vars: 2201\n",
      "Setup time: 4.61e-02s\n",
      "----------------------------------------------------------------------------\n",
      " Iter | pri res | dua res | rel gap | pri obj | dua obj | kap/tau | time (s)\n",
      "----------------------------------------------------------------------------\n",
      "     0| 2.83e+20  4.24e+20  1.00e+00 -1.87e+22  9.92e+21  1.11e+22  6.45e-03 \n",
      "   100| 2.87e-03  1.14e-02  4.08e-03  2.09e+00  2.07e+00  1.61e-15  1.97e-01 \n",
      "   200| 2.65e-03  6.42e-03  7.21e-03  2.07e+00  2.03e+00  1.91e-15  3.33e-01 \n",
      "   300| 1.81e-03  5.65e-03  1.31e-03  2.04e+00  2.04e+00  5.34e-16  4.73e-01 \n",
      "   400| 5.70e-04  2.21e-03  2.49e-03  2.04e+00  2.03e+00  2.53e-15  6.13e-01 \n",
      "   500| 6.98e-04  3.25e-03  1.65e-03  2.05e+00  2.04e+00  2.50e-15  7.55e-01 \n",
      "   600| 6.40e-04  2.07e-03  2.54e-03  2.04e+00  2.05e+00  6.41e-16  8.94e-01 \n",
      "   700| 6.71e-04  2.32e-03  1.83e-03  2.05e+00  2.04e+00  8.07e-15  1.04e+00 \n",
      "   800| 6.64e-04  1.52e-03  1.35e-03  2.05e+00  2.06e+00  1.96e-15  1.18e+00 \n",
      "   900| 5.55e-04  1.92e-03  3.91e-04  2.04e+00  2.05e+00  3.18e-15  1.32e+00 \n",
      "  1000| 2.41e-04  8.55e-04  1.37e-04  2.05e+00  2.05e+00  7.60e-15  1.46e+00 \n",
      "  1100| 4.28e-04  1.42e-03  1.40e-04  2.05e+00  2.04e+00  6.23e-16  1.60e+00 \n",
      "  1200| 4.81e-04  1.27e-03  3.17e-04  2.05e+00  2.05e+00  2.62e-15  1.74e+00 \n",
      "  1300| 2.37e-04  7.31e-04  1.12e-03  2.04e+00  2.05e+00  2.35e-16  1.88e+00 \n",
      "  1400| 4.48e-04  1.11e-03  2.39e-04  2.05e+00  2.05e+00  1.04e-15  2.03e+00 \n",
      "  1500| 8.99e-05  3.26e-04  1.82e-04  2.04e+00  2.04e+00  4.48e-16  2.16e+00 \n",
      "  1600| 5.67e-05  3.01e-04  1.69e-05  2.05e+00  2.05e+00  8.94e-17  2.30e+00 \n",
      "  1700| 3.50e-05  1.12e-04  1.30e-04  2.05e+00  2.05e+00  4.46e-15  2.44e+00 \n",
      "  1800| 2.65e-05  6.99e-05  3.00e-05  2.05e+00  2.05e+00  4.57e-15  2.59e+00 \n",
      "----------------------------------------------------------------------------\n",
      "Status: Solved\n",
      "Timing: Solve time: 2.59e+00s\n",
      "\tLin-sys: nnz in L factor: 315754, avg solve time: 1.02e-03s\n",
      "\tCones: avg projection time: 2.08e-06s\n",
      "\tAcceleration: avg step time: 3.13e-04s\n",
      "----------------------------------------------------------------------------\n",
      "Error metrics:\n",
      "dist(s, K) = 1.4961e-16, dist(y, K*) = 0.0000e+00, s'y/|s||y| = 3.7399e-18\n",
      "primal res: |Ax + s - b|_2 / (1 + |b|_2) = 2.6501e-05\n",
      "dual res:   |A'y + c|_2 / (1 + |c|_2) = 6.9894e-05\n",
      "rel gap:    |c'x + b'y| / (1 + |c'x| + |b'y|) = 3.0009e-05\n",
      "----------------------------------------------------------------------------\n",
      "c'x = 2.0468, -b'y = 2.0467\n",
      "============================================================================\n"
     ]
    }
   ],
   "source": [
    "## Use SCS\n",
    "\n",
    "obj, runtime, beta, beta0 = use_SCS(X_train, y_train, lam)\n",
    "\n"
   ]
  },
  {
   "cell_type": "code",
   "execution_count": 6,
   "metadata": {
    "scrolled": true
   },
   "outputs": [
    {
     "name": "stdout",
     "output_type": "stream",
     "text": [
      "Parameter OutputFlag unchanged\n",
      "   Value: 1  Min: 0  Max: 1  Default: 1\n",
      "Changed value of parameter QCPDual to 1\n",
      "   Prev: 0  Min: 0  Max: 1  Default: 0\n",
      "Gurobi Optimizer version 9.0.2 build v9.0.2rc0 (linux64)\n",
      "Optimize a model with 2201 rows, 2102 columns and 105301 nonzeros\n",
      "Model fingerprint: 0x1510d758\n",
      "Coefficient statistics:\n",
      "  Matrix range     [2e-06, 1e+00]\n",
      "  Objective range  [9e-02, 1e+00]\n",
      "  Bounds range     [0e+00, 0e+00]\n",
      "  RHS range        [1e+00, 1e+00]\n",
      "\n",
      "Concurrent LP optimizer: primal simplex, dual simplex, and barrier\n",
      "Showing barrier log only...\n",
      "\n",
      "Presolve removed 1101 rows and 1 columns\n",
      "Presolve time: 0.07s\n",
      "Presolved: 1100 rows, 2101 columns, 102200 nonzeros\n",
      "\n",
      "Ordering time: 0.00s\n",
      "\n",
      "Barrier statistics:\n",
      " Free vars  : 1001\n",
      " AA' NZ     : 1.050e+05\n",
      " Factor NZ  : 1.215e+05 (roughly 2 MBytes of memory)\n",
      " Factor Ops : 1.416e+07 (less than 1 second per iteration)\n",
      " Threads    : 26\n",
      "\n",
      "Barrier performed 0 iterations in 0.21 seconds\n",
      "Barrier solve interrupted - model solved by another algorithm\n",
      "\n",
      "\n",
      "Solved with dual simplex\n",
      "Solved in 1194 iterations and 0.22 seconds\n",
      "Optimal objective  2.046559818e+00\n"
     ]
    }
   ],
   "source": [
    "## Use Gurobi LP solver \n",
    "\n",
    "obj, runtime, beta, beta0 = use_Gurobi(X_train, y_train, lam)"
   ]
  },
  {
   "cell_type": "code",
   "execution_count": 7,
   "metadata": {},
   "outputs": [
    {
     "name": "stdout",
     "output_type": "stream",
     "text": [
      "TEST CV BEFORE TAU: 31.63858403911275\n",
      "\n",
      "Number of iterations: 1000\n",
      "Shape: (100, 1000)\n",
      "Len support smoothing: 75\n",
      "Number violated constraints: 46\n",
      "Convergence rate    : 0.003\n",
      "Time smoothing: 1.936\n",
      "\n",
      "Number of iterations              : 1\n",
      "Total time smoothing for hinge: 1.937\n"
     ]
    }
   ],
   "source": [
    "## Use gradient descent with Nesterov's smoothing \n",
    "\n",
    "obj, runtime, beta, beta0 = use_FOM(X_train, y_train, lam, tau = 0.02, max_iter = 1000)\n",
    "\n"
   ]
  },
  {
   "cell_type": "code",
   "execution_count": 8,
   "metadata": {},
   "outputs": [
    {
     "name": "stdout",
     "output_type": "stream",
     "text": [
      "optimal solution found! \n"
     ]
    }
   ],
   "source": [
    "## Use parametric simplex method (PSM)\n",
    "\n",
    "obj, runtime, beta, beta0 = use_PSM(X_train, y_train, lam)\n"
   ]
  },
  {
   "cell_type": "code",
   "execution_count": 9,
   "metadata": {},
   "outputs": [],
   "source": [
    "## Use SGD with 10000 epochs\n",
    "\n",
    "max_iter = 10000\n",
    "obj, runtime, beta, beta0 = use_SGD(X_train, y_train, lam, max_iter)\n"
   ]
  },
  {
   "cell_type": "code",
   "execution_count": null,
   "metadata": {},
   "outputs": [],
   "source": []
  }
 ],
 "metadata": {
  "kernelspec": {
   "display_name": "Python 3",
   "language": "python",
   "name": "python3"
  },
  "language_info": {
   "codemirror_mode": {
    "name": "ipython",
    "version": 3
   },
   "file_extension": ".py",
   "mimetype": "text/x-python",
   "name": "python",
   "nbconvert_exporter": "python",
   "pygments_lexer": "ipython3",
   "version": "3.7.4"
  }
 },
 "nbformat": 4,
 "nbformat_minor": 2
}
