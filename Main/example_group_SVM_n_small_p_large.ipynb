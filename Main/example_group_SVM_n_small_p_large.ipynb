{
 "cells": [
  {
   "cell_type": "code",
   "execution_count": 1,
   "metadata": {},
   "outputs": [],
   "source": [
    "import numpy as np\n",
    "import sys\n",
    "sys.path.append('./Group_SVM')\n",
    "sys.path.append('../SPGL1_python_port')\n",
    "\n",
    "from Our_methods import use_FO1_CG, use_FO2_CG, use_RP_CG\n",
    "from Benchmarks import use_Gurobi, use_SCS\n",
    "# from simulate_data_classification import *\n",
    "from simulate_data_group import simulate_data_group"
   ]
  },
  {
   "cell_type": "code",
   "execution_count": 2,
   "metadata": {},
   "outputs": [
    {
     "name": "stdout",
     "output_type": "stream",
     "text": [
      "(100, 1000)\n",
      "\n",
      "DATA CREATED for N=100, P=1000, k0=10 Rho=0.2 Sigma=2 Seed_X=111\n"
     ]
    }
   ],
   "source": [
    "# generate data\n",
    "## 'trash.txt' is a temperory txt file to save some of the output\n",
    "\n",
    "N, P = 100, 1000\n",
    "type_Sigma, k0, rho, tau_SNR = 2, 10, 0.2, 0.5\n",
    "f = open('trash.txt', 'w')\n",
    "seed_X = 111\n",
    "feat_by_group = 10\n",
    "num_groups = int(P/feat_by_group)\n",
    "group_to_feat = np.array([range(10*k, 10*(k+1)) for k in range(num_groups)]) \n",
    "X_train, l2_X_train, y_train, u_positive = simulate_data_group(type_Sigma, N, P, \n",
    "                                                                       group_to_feat, k0, rho, \n",
    "                                                                       tau_SNR, seed_X, f)\n",
    "aux          = np.sum( np.abs(X_train), axis=0)\n",
    "aux          = [np.sum(aux[idx]) for idx in group_to_feat]\n",
    "alpha_max    = np.max(aux)  \n",
    "lam = rho* alpha_max"
   ]
  },
  {
   "cell_type": "code",
   "execution_count": 3,
   "metadata": {},
   "outputs": [
    {
     "name": "stdout",
     "output_type": "stream",
     "text": [
      "\n",
      "Alpha : 81.62066756035144\n",
      "0\n",
      "Test CV\n",
      "4.1029759517993813e-17\n",
      "\n",
      "Number of iterations: 1\n",
      "Len group support smoothing: 0\n",
      "Convergence rate           : 0.0\n",
      "Time smoothing: 0.009\n",
      "\n",
      "Alpha : 32.64826702414057\n",
      "\n",
      "Alpha : 16.324133512070286\n",
      "\n",
      "Number of iterations                       : 0\n",
      "Total time smoothing for hinge: 0.012\n",
      "Number of constraints: 100\n",
      "Number of groups     : 0\n",
      "Using license file /home/software/gurobi/gurobi.lic\n",
      "Set parameter TokenServer to value engaging-license-001\n",
      "Round 1\n",
      "Time optimizing = 0.015319585800170898\n",
      "Number of groups added: 10\n",
      "Round 2\n",
      "Time optimizing = 0.13754630088806152\n",
      "\n",
      "TIME CG = 0.1402266025543213\n",
      "\n",
      "Obj value   = 47.35474457027614\n",
      "Len support = 100\n",
      "b0   = -0.01629275098819607\n",
      "\n",
      "Number violated constraints =  48\n",
      "Len support dual = 54\n"
     ]
    }
   ],
   "source": [
    "## Use column generation LP inicialized with first order method. See the paper for more details.\n",
    "## The input \"tol\" is the tolerance parameter for searching reduced cost (the parameter \"epsilon\" in the paper)\n",
    "\n",
    "\n",
    "obj, time_total, time_CG, beta, beta0 = use_FO2_CG(X_train, y_train, lam, group_to_feat, tol=0.01)\n"
   ]
  },
  {
   "cell_type": "code",
   "execution_count": 4,
   "metadata": {},
   "outputs": [
    {
     "name": "stdout",
     "output_type": "stream",
     "text": [
      "Parameter OutputFlag unchanged\n",
      "   Value: 1  Min: 0  Max: 1  Default: 1\n",
      "Changed value of parameter QCPDual to 1\n",
      "   Prev: 0  Min: 0  Max: 1  Default: 0\n",
      "Gurobi Optimizer version 9.0.2 build v9.0.2rc0 (linux64)\n",
      "Optimize a model with 3200 rows, 2201 columns and 106300 nonzeros\n",
      "Model fingerprint: 0xe31759b6\n",
      "Coefficient statistics:\n",
      "  Matrix range     [7e-07, 1e+00]\n",
      "  Objective range  [1e+00, 2e+01]\n",
      "  Bounds range     [0e+00, 0e+00]\n",
      "  RHS range        [1e+00, 1e+00]\n",
      "\n",
      "Concurrent LP optimizer: primal simplex, dual simplex, and barrier\n",
      "Showing barrier log only...\n",
      "\n",
      "Presolve removed 1100 rows and 1000 columns\n",
      "Presolve time: 0.08s\n",
      "Presolved: 2100 rows, 1201 columns, 104200 nonzeros\n",
      "\n",
      "Ordering time: 0.01s\n",
      "\n",
      "Barrier statistics:\n",
      " Free vars  : 1101\n",
      " AA' NZ     : 2.240e+05\n",
      " Factor NZ  : 2.260e+05 (roughly 3 MBytes of memory)\n",
      " Factor Ops : 2.483e+07 (less than 1 second per iteration)\n",
      " Threads    : 26\n",
      "\n",
      "Barrier performed 0 iterations in 0.26 seconds\n",
      "Barrier solve interrupted - model solved by another algorithm\n",
      "\n",
      "\n",
      "Solved with primal simplex\n",
      "Solved in 2150 iterations and 0.28 seconds\n",
      "Optimal objective  4.735474457e+01\n"
     ]
    }
   ],
   "source": [
    "## Use Gurobi\n",
    "obj, runtime, beta, beta0 = use_Gurobi(X_train, y_train, lam, group_to_feat)\n"
   ]
  },
  {
   "cell_type": "code",
   "execution_count": 5,
   "metadata": {},
   "outputs": [
    {
     "name": "stdout",
     "output_type": "stream",
     "text": [
      "----------------------------------------------------------------------------\n",
      "\tSCS v2.1.1 - Splitting Conic Solver\n",
      "\t(c) Brendan O'Donoghue, Stanford University, 2012\n",
      "----------------------------------------------------------------------------\n",
      "Lin-sys: sparse-direct, nnz in A = 106300\n",
      "eps = 1.00e-04, alpha = 1.50, max_iters = 5000, normalize = 1, scale = 1.00\n",
      "acceleration_lookback = 10, rho_x = 1.00e-03\n",
      "Variables n = 2201, constraints m = 3200\n",
      "Cones:\tlinear vars: 3200\n",
      "Setup time: 3.51e-02s\n",
      "----------------------------------------------------------------------------\n",
      " Iter | pri res | dua res | rel gap | pri obj | dua obj | kap/tau | time (s)\n",
      "----------------------------------------------------------------------------\n",
      "     0| 1.90e+00  3.52e+00  9.99e-01 -5.85e+02  6.40e+02  0.00e+00  4.78e-03 \n",
      "   100| 8.10e-04  2.14e-03  1.37e-03  4.75e+01  4.73e+01  3.75e-15  1.52e-01 \n",
      "   200| 4.49e-04  1.26e-03  8.32e-04  4.74e+01  4.73e+01  2.43e-14  2.78e-01 \n",
      "   300| 4.62e-04  1.02e-03  3.99e-05  4.73e+01  4.73e+01  3.52e-14  4.05e-01 \n",
      "   400| 3.18e-04  1.08e-03  1.55e-04  4.73e+01  4.73e+01  4.08e-14  5.31e-01 \n",
      "   500| 4.50e-04  1.24e-03  8.86e-04  4.73e+01  4.74e+01  7.64e-14  6.59e-01 \n",
      "   600| 3.32e-04  8.31e-04  4.57e-04  4.74e+01  4.74e+01  6.53e-14  7.86e-01 \n",
      "   700| 2.00e-04  6.95e-04  2.91e-04  4.74e+01  4.73e+01  3.67e-16  9.10e-01 \n",
      "   800| 4.14e-04  1.02e-03  9.23e-04  4.74e+01  4.75e+01  1.00e-14  1.04e+00 \n",
      "   900| 2.42e-04  3.32e-04  1.67e-05  4.73e+01  4.73e+01  1.25e-14  1.16e+00 \n",
      "  1000| 1.11e-04  3.24e-04  2.58e-04  4.73e+01  4.74e+01  1.62e-14  1.29e+00 \n",
      "  1100| 1.34e-04  3.13e-04  1.03e-04  4.74e+01  4.74e+01  2.07e-15  1.41e+00 \n",
      "  1200| 1.14e-04  2.73e-04  1.78e-04  4.74e+01  4.73e+01  4.20e-15  1.54e+00 \n",
      "  1300| 8.62e-05  2.03e-04  1.07e-04  4.74e+01  4.74e+01  5.91e-14  1.66e+00 \n",
      "  1400| 5.47e-05  1.34e-04  1.99e-04  4.74e+01  4.74e+01  7.45e-15  1.79e+00 \n",
      "  1500| 1.08e-04  3.07e-04  3.29e-04  4.74e+01  4.74e+01  7.93e-14  1.92e+00 \n",
      "  1600| 6.66e-05  1.21e-04  9.56e-05  4.74e+01  4.74e+01  3.51e-14  2.05e+00 \n",
      "  1700| 4.49e-05  1.30e-04  1.57e-04  4.74e+01  4.74e+01  2.66e-14  2.18e+00 \n",
      "  1800| 7.41e-05  2.34e-04  3.71e-05  4.74e+01  4.73e+01  1.77e-14  2.31e+00 \n",
      "  1900| 8.74e-05  2.05e-04  7.56e-05  4.74e+01  4.74e+01  3.74e-14  2.44e+00 \n",
      "  2000| 8.20e-05  2.34e-04  6.97e-06  4.74e+01  4.74e+01  2.82e-14  2.56e+00 \n",
      "  2100| 5.03e-05  1.26e-04  2.56e-04  4.74e+01  4.74e+01  4.10e-14  2.69e+00 \n",
      "  2200| 7.48e-05  1.85e-04  1.88e-04  4.74e+01  4.74e+01  2.72e-14  2.82e+00 \n",
      "  2220| 4.24e-05  9.07e-05  5.60e-06  4.74e+01  4.74e+01  1.84e-14  2.85e+00 \n",
      "----------------------------------------------------------------------------\n",
      "Status: Solved\n",
      "Timing: Solve time: 2.85e+00s\n",
      "\tLin-sys: nnz in L factor: 248851, avg solve time: 8.29e-04s\n",
      "\tCones: avg projection time: 2.51e-06s\n",
      "\tAcceleration: avg step time: 3.39e-04s\n",
      "----------------------------------------------------------------------------\n",
      "Error metrics:\n",
      "dist(s, K) = 2.3355e-17, dist(y, K*) = 0.0000e+00, s'y/|s||y| = 1.1400e-18\n",
      "primal res: |Ax + s - b|_2 / (1 + |b|_2) = 4.2369e-05\n",
      "dual res:   |A'y + c|_2 / (1 + |c|_2) = 9.0679e-05\n",
      "rel gap:    |c'x + b'y| / (1 + |c'x| + |b'y|) = 5.6034e-06\n",
      "----------------------------------------------------------------------------\n",
      "c'x = 47.3516, -b'y = 47.3510\n",
      "============================================================================\n"
     ]
    }
   ],
   "source": [
    "## Use SCS\n",
    "obj, runtime, beta, beta0 = use_SCS(X_train, y_train, lam, group_to_feat)\n"
   ]
  },
  {
   "cell_type": "code",
   "execution_count": null,
   "metadata": {},
   "outputs": [],
   "source": []
  }
 ],
 "metadata": {
  "kernelspec": {
   "display_name": "Python 3",
   "language": "python",
   "name": "python3"
  },
  "language_info": {
   "codemirror_mode": {
    "name": "ipython",
    "version": 3
   },
   "file_extension": ".py",
   "mimetype": "text/x-python",
   "name": "python",
   "nbconvert_exporter": "python",
   "pygments_lexer": "ipython3",
   "version": "3.7.4"
  }
 },
 "nbformat": 4,
 "nbformat_minor": 2
}
